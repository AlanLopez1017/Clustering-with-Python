{
 "cells": [
  {
   "cell_type": "markdown",
   "metadata": {},
   "source": [
    "# The k-means method"
   ]
  },
  {
   "cell_type": "code",
   "execution_count": 1,
   "metadata": {},
   "outputs": [],
   "source": [
    "import numpy as np"
   ]
  },
  {
   "cell_type": "code",
   "execution_count": 2,
   "metadata": {},
   "outputs": [
    {
     "data": {
      "text/plain": [
       "array([[0.89090551, 0.56126478, 0.87989139],\n",
       "       [0.64128864, 0.11903265, 0.50539863],\n",
       "       [0.75172952, 0.22686654, 0.79464664],\n",
       "       [0.88163954, 0.03313545, 0.95246562],\n",
       "       [0.81560491, 0.96473145, 0.84889113],\n",
       "       [0.29591591, 0.96225747, 0.93968252],\n",
       "       [0.99010556, 0.63916651, 0.77655312],\n",
       "       [0.60781298, 0.04837202, 0.15407631],\n",
       "       [0.33537468, 0.92786875, 0.68071715],\n",
       "       [0.70389511, 0.66399689, 0.89461629],\n",
       "       [0.26914764, 0.02215808, 0.97016708],\n",
       "       [0.31313033, 0.40164826, 0.33578608],\n",
       "       [0.60826113, 0.45227979, 0.22570639],\n",
       "       [0.41639882, 0.25050891, 0.51967904],\n",
       "       [0.89509144, 0.74224393, 0.53046497],\n",
       "       [0.35365218, 0.09588486, 0.81038405],\n",
       "       [0.5492481 , 0.70022281, 0.41710388],\n",
       "       [0.15448678, 0.23672393, 0.52279437],\n",
       "       [0.01225707, 0.47199699, 0.8525722 ],\n",
       "       [0.5794768 , 0.76735035, 0.29068061],\n",
       "       [0.00127137, 0.32236848, 0.13008494],\n",
       "       [0.52353428, 0.45048684, 0.70119818],\n",
       "       [0.95145568, 0.04440328, 0.97107901],\n",
       "       [0.88441477, 0.58507772, 0.61951868],\n",
       "       [0.02703366, 0.55199073, 0.63413198],\n",
       "       [0.93437337, 0.30804096, 0.08711698],\n",
       "       [0.71046977, 0.74443291, 0.14531902],\n",
       "       [0.96192718, 0.93571389, 0.18388209],\n",
       "       [0.68359643, 0.51035309, 0.7514803 ],\n",
       "       [0.90614291, 0.02255103, 0.78307771]])"
      ]
     },
     "execution_count": 2,
     "metadata": {},
     "output_type": "execute_result"
    }
   ],
   "source": [
    "data = np.random.random(90).reshape(30,3)\n",
    "data"
   ]
  },
  {
   "cell_type": "markdown",
   "metadata": {},
   "source": [
    "Let's imagine that the expert decides that he wants two clusters."
   ]
  },
  {
   "cell_type": "code",
   "execution_count": 3,
   "metadata": {},
   "outputs": [
    {
     "data": {
      "text/plain": [
       "array([[0.90614291, 0.02255103, 0.78307771],\n",
       "       [0.89090551, 0.56126478, 0.87989139]])"
      ]
     },
     "execution_count": 3,
     "metadata": {},
     "output_type": "execute_result"
    }
   ],
   "source": [
    "c1 = np.random.choice(range(len(data)))\n",
    "c2 = np.random.choice(range(len(data)))\n",
    "clust_centers = np.vstack([data[c1], data[c2]])\n",
    "clust_centers"
   ]
  },
  {
   "cell_type": "code",
   "execution_count": 4,
   "metadata": {},
   "outputs": [],
   "source": [
    "from scipy.cluster.vq import vq"
   ]
  },
  {
   "cell_type": "code",
   "execution_count": 5,
   "metadata": {},
   "outputs": [
    {
     "data": {
      "text/plain": [
       "(array([1, 0, 0, 0, 1, 1, 1, 0, 1, 1, 0, 1, 1, 0, 1, 0, 1, 0, 1, 1, 0, 1,\n",
       "        0, 1, 1, 0, 1, 1, 1, 0]),\n",
       " array([0.        , 0.39567937, 0.25636333, 0.17147801, 0.41160242,\n",
       "        0.71998801, 0.16305866, 0.69664211, 0.69475416, 0.21387753,\n",
       "        0.66390176, 0.80953825, 0.72091858, 0.60099328, 0.393535  ,\n",
       "        0.55800492, 0.59178662, 0.82377448, 0.88359389, 0.69758759,\n",
       "        1.15545773, 0.42327844, 0.19461566, 0.26153993, 0.89819723,\n",
       "        0.75277009, 0.77827   , 0.79352704, 0.24911536, 0.        ]))"
      ]
     },
     "execution_count": 5,
     "metadata": {},
     "output_type": "execute_result"
    }
   ],
   "source": [
    "vq(data, clust_centers)"
   ]
  },
  {
   "cell_type": "markdown",
   "metadata": {},
   "source": [
    "The first array gives us the information of which cluster each of the observations belongs to and the second array gives us the distance of each observation to the barycenter of its belonging cluster."
   ]
  },
  {
   "cell_type": "code",
   "execution_count": 6,
   "metadata": {},
   "outputs": [],
   "source": [
    "from scipy.cluster.vq import kmeans"
   ]
  },
  {
   "cell_type": "code",
   "execution_count": 7,
   "metadata": {},
   "outputs": [
    {
     "data": {
      "text/plain": [
       "(array([[0.45406543, 0.2198752 , 0.64250279],\n",
       "        [0.72257738, 0.69766675, 0.55144163]]),\n",
       " 0.40393385951066174)"
      ]
     },
     "execution_count": 7,
     "metadata": {},
     "output_type": "execute_result"
    }
   ],
   "source": [
    "kmeans(data, clust_centers)"
   ]
  },
  {
   "cell_type": "markdown",
   "metadata": {},
   "source": [
    "This gives us information about the two barycenters; The first cluster then has its centroid at [0.45406543, 0.2198752, 0.64250279] and the second at [0.72257738, 0.69766675, 0.55144163]. The number at the end is the value of the sum of the squares of the errors (from each of the points, subtract the distance of said points from the barycenter, square them, add them all and divide the result by the sum of the squares of each point to the global barycenter of the system).\n",
    "\n",
    "K-means also works if we give it the number of clusters we want instead of the centroids:"
   ]
  },
  {
   "cell_type": "code",
   "execution_count": 8,
   "metadata": {},
   "outputs": [
    {
     "data": {
      "text/plain": [
       "(array([[0.45406543, 0.2198752 , 0.64250279],\n",
       "        [0.72257738, 0.69766675, 0.55144163]]),\n",
       " 0.40393385951066174)"
      ]
     },
     "execution_count": 8,
     "metadata": {},
     "output_type": "execute_result"
    }
   ],
   "source": [
    "kmeans(data, 2)"
   ]
  },
  {
   "cell_type": "markdown",
   "metadata": {},
   "source": [
    "We can see that the result is the same. Therefore, we can use k-means knowing the barycenters or knowing only the number k and the algorithm will randomly assign the starting points to be the clusters and thus carry out the method."
   ]
  }
 ],
 "metadata": {
  "kernelspec": {
   "display_name": "Python 3",
   "language": "python",
   "name": "python3"
  },
  "language_info": {
   "codemirror_mode": {
    "name": "ipython",
    "version": 3
   },
   "file_extension": ".py",
   "mimetype": "text/x-python",
   "name": "python",
   "nbconvert_exporter": "python",
   "pygments_lexer": "ipython3",
   "version": "3.9.7"
  },
  "orig_nbformat": 4
 },
 "nbformat": 4,
 "nbformat_minor": 2
}
